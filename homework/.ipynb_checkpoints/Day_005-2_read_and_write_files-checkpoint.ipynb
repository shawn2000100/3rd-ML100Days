{
 "cells": [
  {
   "cell_type": "markdown",
   "metadata": {},
   "source": [
    "## 使用內建功能讀取 txt 檔"
   ]
  },
  {
   "cell_type": "markdown",
   "metadata": {},
   "source": [
    "# [教學目標]\n",
    "- 示範 Pandas 各種 讀取 / 寫入 檔案的方式"
   ]
  },
  {
   "cell_type": "markdown",
   "metadata": {},
   "source": [
    "# [範例重點]\n",
    "- 讀取 txt 檔 (In[2], Out[2])\n",
    "- 存取 json 檔 (In[4], In[5], In[7], In[8])\n",
    "- 存取 npy 檔 (numpy專用檔, In[10], In[11]) \n",
    "- 讀取 Pickle 檔 (In[12], In[13])"
   ]
  },
  {
   "cell_type": "code",
   "execution_count": 58,
   "metadata": {
    "scrolled": true
   },
   "outputs": [
    {
     "name": "stdout",
     "output_type": "stream",
     "text": [
      "['id,sex,age,score\\n', '001,F,20,77\\n', '002,F,25,90\\n', '003,M,22,80\\n', '004,F,30,66\\n', '005,M,40,60\\n', '006,M,29,87']\n"
     ]
    }
   ],
   "source": [
    "with open(\"Part01/example.txt\", 'r') as f:\n",
    "    data = f.readlines()\n",
    "#     data = f.readline()\n",
    "#     data = f.read()\n",
    "print(data)"
   ]
  },
  {
   "cell_type": "markdown",
   "metadata": {},
   "source": [
    "## 將 txt 轉成 pandas dataframe"
   ]
  },
  {
   "cell_type": "code",
   "execution_count": 59,
   "metadata": {},
   "outputs": [
    {
     "data": {
      "text/plain": [
       "[['id', 'sex', 'age', 'score'],\n",
       " ['001', 'F', '20', '77'],\n",
       " ['002', 'F', '25', '90'],\n",
       " ['003', 'M', '22', '80'],\n",
       " ['004', 'F', '30', '66'],\n",
       " ['005', 'M', '40', '60'],\n",
       " ['006', 'M', '29', '87']]"
      ]
     },
     "execution_count": 59,
     "metadata": {},
     "output_type": "execute_result"
    }
   ],
   "source": [
    "import pandas as pd\n",
    "\n",
    "data = []\n",
    "with open(\"Part01/example.txt\", 'r') as f:\n",
    "    for line in f:\n",
    "#         line = line.replace('\\n', '').split(',') # 將每句最後的 /n 取代成空值後，再以逗號斷句\n",
    "        line = line.strip().split(',') # 這行也行\n",
    "        data.append(line)\n",
    "data"
   ]
  },
  {
   "cell_type": "code",
   "execution_count": 60,
   "metadata": {},
   "outputs": [
    {
     "data": {
      "text/html": [
       "<div>\n",
       "<style scoped>\n",
       "    .dataframe tbody tr th:only-of-type {\n",
       "        vertical-align: middle;\n",
       "    }\n",
       "\n",
       "    .dataframe tbody tr th {\n",
       "        vertical-align: top;\n",
       "    }\n",
       "\n",
       "    .dataframe thead th {\n",
       "        text-align: right;\n",
       "    }\n",
       "</style>\n",
       "<table border=\"1\" class=\"dataframe\">\n",
       "  <thead>\n",
       "    <tr style=\"text-align: right;\">\n",
       "      <th></th>\n",
       "      <th>id</th>\n",
       "      <th>sex</th>\n",
       "      <th>age</th>\n",
       "      <th>score</th>\n",
       "    </tr>\n",
       "  </thead>\n",
       "  <tbody>\n",
       "    <tr>\n",
       "      <th>0</th>\n",
       "      <td>001</td>\n",
       "      <td>F</td>\n",
       "      <td>20</td>\n",
       "      <td>77</td>\n",
       "    </tr>\n",
       "    <tr>\n",
       "      <th>1</th>\n",
       "      <td>002</td>\n",
       "      <td>F</td>\n",
       "      <td>25</td>\n",
       "      <td>90</td>\n",
       "    </tr>\n",
       "    <tr>\n",
       "      <th>2</th>\n",
       "      <td>003</td>\n",
       "      <td>M</td>\n",
       "      <td>22</td>\n",
       "      <td>80</td>\n",
       "    </tr>\n",
       "    <tr>\n",
       "      <th>3</th>\n",
       "      <td>004</td>\n",
       "      <td>F</td>\n",
       "      <td>30</td>\n",
       "      <td>66</td>\n",
       "    </tr>\n",
       "    <tr>\n",
       "      <th>4</th>\n",
       "      <td>005</td>\n",
       "      <td>M</td>\n",
       "      <td>40</td>\n",
       "      <td>60</td>\n",
       "    </tr>\n",
       "    <tr>\n",
       "      <th>5</th>\n",
       "      <td>006</td>\n",
       "      <td>M</td>\n",
       "      <td>29</td>\n",
       "      <td>87</td>\n",
       "    </tr>\n",
       "  </tbody>\n",
       "</table>\n",
       "</div>"
      ],
      "text/plain": [
       "    id sex age score\n",
       "0  001   F  20    77\n",
       "1  002   F  25    90\n",
       "2  003   M  22    80\n",
       "3  004   F  30    66\n",
       "4  005   M  40    60\n",
       "5  006   M  29    87"
      ]
     },
     "execution_count": 60,
     "metadata": {},
     "output_type": "execute_result"
    }
   ],
   "source": [
    "df = pd.DataFrame(data[1:])\n",
    "df.columns = data[0]\n",
    "df"
   ]
  },
  {
   "cell_type": "markdown",
   "metadata": {},
   "source": [
    "## 將資料轉成 json 檔後輸出\n",
    "將 json 讀回來後，是否與我們原本想要存入的方式一樣? (以 id 為 key)"
   ]
  },
  {
   "cell_type": "code",
   "execution_count": 61,
   "metadata": {},
   "outputs": [],
   "source": [
    "import json\n",
    "df.to_json('Part01/example01.json')"
   ]
  },
  {
   "cell_type": "code",
   "execution_count": 62,
   "metadata": {},
   "outputs": [
    {
     "data": {
      "text/plain": [
       "{'id': {'0': '001',\n",
       "  '1': '002',\n",
       "  '2': '003',\n",
       "  '3': '004',\n",
       "  '4': '005',\n",
       "  '5': '006'},\n",
       " 'sex': {'0': 'F', '1': 'F', '2': 'M', '3': 'F', '4': 'M', '5': 'M'},\n",
       " 'age': {'0': '20', '1': '25', '2': '22', '3': '30', '4': '40', '5': '29'},\n",
       " 'score': {'0': '77', '1': '90', '2': '80', '3': '66', '4': '60', '5': '87'}}"
      ]
     },
     "execution_count": 62,
     "metadata": {},
     "output_type": "execute_result"
    }
   ],
   "source": [
    "# 上面的存入方式，會將 column name 做為主要的 key, row name 做為次要的 key\n",
    "with open('Part01/example01.json', 'r') as f:\n",
    "    j1 = json.load(f)\n",
    "j1"
   ]
  },
  {
   "cell_type": "code",
   "execution_count": 63,
   "metadata": {},
   "outputs": [
    {
     "data": {
      "text/html": [
       "<div>\n",
       "<style scoped>\n",
       "    .dataframe tbody tr th:only-of-type {\n",
       "        vertical-align: middle;\n",
       "    }\n",
       "\n",
       "    .dataframe tbody tr th {\n",
       "        vertical-align: top;\n",
       "    }\n",
       "\n",
       "    .dataframe thead th {\n",
       "        text-align: right;\n",
       "    }\n",
       "</style>\n",
       "<table border=\"1\" class=\"dataframe\">\n",
       "  <thead>\n",
       "    <tr style=\"text-align: right;\">\n",
       "      <th></th>\n",
       "      <th>sex</th>\n",
       "      <th>age</th>\n",
       "      <th>score</th>\n",
       "    </tr>\n",
       "    <tr>\n",
       "      <th>id</th>\n",
       "      <th></th>\n",
       "      <th></th>\n",
       "      <th></th>\n",
       "    </tr>\n",
       "  </thead>\n",
       "  <tbody>\n",
       "    <tr>\n",
       "      <th>001</th>\n",
       "      <td>F</td>\n",
       "      <td>20</td>\n",
       "      <td>77</td>\n",
       "    </tr>\n",
       "    <tr>\n",
       "      <th>002</th>\n",
       "      <td>F</td>\n",
       "      <td>25</td>\n",
       "      <td>90</td>\n",
       "    </tr>\n",
       "    <tr>\n",
       "      <th>003</th>\n",
       "      <td>M</td>\n",
       "      <td>22</td>\n",
       "      <td>80</td>\n",
       "    </tr>\n",
       "    <tr>\n",
       "      <th>004</th>\n",
       "      <td>F</td>\n",
       "      <td>30</td>\n",
       "      <td>66</td>\n",
       "    </tr>\n",
       "    <tr>\n",
       "      <th>005</th>\n",
       "      <td>M</td>\n",
       "      <td>40</td>\n",
       "      <td>60</td>\n",
       "    </tr>\n",
       "    <tr>\n",
       "      <th>006</th>\n",
       "      <td>M</td>\n",
       "      <td>29</td>\n",
       "      <td>87</td>\n",
       "    </tr>\n",
       "  </tbody>\n",
       "</table>\n",
       "</div>"
      ],
      "text/plain": [
       "    sex age score\n",
       "id               \n",
       "001   F  20    77\n",
       "002   F  25    90\n",
       "003   M  22    80\n",
       "004   F  30    66\n",
       "005   M  40    60\n",
       "006   M  29    87"
      ]
     },
     "execution_count": 63,
     "metadata": {},
     "output_type": "execute_result"
    }
   ],
   "source": [
    "df.set_index('id', inplace=True)\n",
    "df"
   ]
  },
  {
   "cell_type": "code",
   "execution_count": 64,
   "metadata": {},
   "outputs": [],
   "source": [
    "df.to_json('Part01/example02.json', orient='index')"
   ]
  },
  {
   "cell_type": "code",
   "execution_count": 65,
   "metadata": {},
   "outputs": [
    {
     "data": {
      "text/plain": [
       "{'001': {'sex': 'F', 'age': '20', 'score': '77'},\n",
       " '002': {'sex': 'F', 'age': '25', 'score': '90'},\n",
       " '003': {'sex': 'M', 'age': '22', 'score': '80'},\n",
       " '004': {'sex': 'F', 'age': '30', 'score': '66'},\n",
       " '005': {'sex': 'M', 'age': '40', 'score': '60'},\n",
       " '006': {'sex': 'M', 'age': '29', 'score': '87'}}"
      ]
     },
     "execution_count": 65,
     "metadata": {},
     "output_type": "execute_result"
    }
   ],
   "source": [
    "with open('Part01/example02.json', 'r') as f:\n",
    "    j2 = json.load(f)\n",
    "j2"
   ]
  },
  {
   "cell_type": "code",
   "execution_count": 66,
   "metadata": {},
   "outputs": [
    {
     "data": {
      "text/html": [
       "<div>\n",
       "<style scoped>\n",
       "    .dataframe tbody tr th:only-of-type {\n",
       "        vertical-align: middle;\n",
       "    }\n",
       "\n",
       "    .dataframe tbody tr th {\n",
       "        vertical-align: top;\n",
       "    }\n",
       "\n",
       "    .dataframe thead th {\n",
       "        text-align: right;\n",
       "    }\n",
       "</style>\n",
       "<table border=\"1\" class=\"dataframe\">\n",
       "  <thead>\n",
       "    <tr style=\"text-align: right;\">\n",
       "      <th></th>\n",
       "      <th>001</th>\n",
       "      <th>002</th>\n",
       "      <th>003</th>\n",
       "      <th>004</th>\n",
       "      <th>005</th>\n",
       "      <th>006</th>\n",
       "    </tr>\n",
       "  </thead>\n",
       "  <tbody>\n",
       "    <tr>\n",
       "      <th>age</th>\n",
       "      <td>20</td>\n",
       "      <td>25</td>\n",
       "      <td>22</td>\n",
       "      <td>30</td>\n",
       "      <td>40</td>\n",
       "      <td>29</td>\n",
       "    </tr>\n",
       "    <tr>\n",
       "      <th>score</th>\n",
       "      <td>77</td>\n",
       "      <td>90</td>\n",
       "      <td>80</td>\n",
       "      <td>66</td>\n",
       "      <td>60</td>\n",
       "      <td>87</td>\n",
       "    </tr>\n",
       "    <tr>\n",
       "      <th>sex</th>\n",
       "      <td>F</td>\n",
       "      <td>F</td>\n",
       "      <td>M</td>\n",
       "      <td>F</td>\n",
       "      <td>M</td>\n",
       "      <td>M</td>\n",
       "    </tr>\n",
       "  </tbody>\n",
       "</table>\n",
       "</div>"
      ],
      "text/plain": [
       "      001 002 003 004 005 006\n",
       "age    20  25  22  30  40  29\n",
       "score  77  90  80  66  60  87\n",
       "sex     F   F   M   F   M   M"
      ]
     },
     "execution_count": 66,
     "metadata": {},
     "output_type": "execute_result"
    }
   ],
   "source": [
    "df2 = pd.DataFrame(j2)\n",
    "df2"
   ]
  },
  {
   "cell_type": "code",
   "execution_count": 67,
   "metadata": {},
   "outputs": [
    {
     "data": {
      "text/html": [
       "<div>\n",
       "<style scoped>\n",
       "    .dataframe tbody tr th:only-of-type {\n",
       "        vertical-align: middle;\n",
       "    }\n",
       "\n",
       "    .dataframe tbody tr th {\n",
       "        vertical-align: top;\n",
       "    }\n",
       "\n",
       "    .dataframe thead th {\n",
       "        text-align: right;\n",
       "    }\n",
       "</style>\n",
       "<table border=\"1\" class=\"dataframe\">\n",
       "  <thead>\n",
       "    <tr style=\"text-align: right;\">\n",
       "      <th></th>\n",
       "      <th>age</th>\n",
       "      <th>score</th>\n",
       "      <th>sex</th>\n",
       "    </tr>\n",
       "  </thead>\n",
       "  <tbody>\n",
       "    <tr>\n",
       "      <th>001</th>\n",
       "      <td>20</td>\n",
       "      <td>77</td>\n",
       "      <td>F</td>\n",
       "    </tr>\n",
       "    <tr>\n",
       "      <th>002</th>\n",
       "      <td>25</td>\n",
       "      <td>90</td>\n",
       "      <td>F</td>\n",
       "    </tr>\n",
       "    <tr>\n",
       "      <th>003</th>\n",
       "      <td>22</td>\n",
       "      <td>80</td>\n",
       "      <td>M</td>\n",
       "    </tr>\n",
       "    <tr>\n",
       "      <th>004</th>\n",
       "      <td>30</td>\n",
       "      <td>66</td>\n",
       "      <td>F</td>\n",
       "    </tr>\n",
       "    <tr>\n",
       "      <th>005</th>\n",
       "      <td>40</td>\n",
       "      <td>60</td>\n",
       "      <td>M</td>\n",
       "    </tr>\n",
       "    <tr>\n",
       "      <th>006</th>\n",
       "      <td>29</td>\n",
       "      <td>87</td>\n",
       "      <td>M</td>\n",
       "    </tr>\n",
       "  </tbody>\n",
       "</table>\n",
       "</div>"
      ],
      "text/plain": [
       "    age score sex\n",
       "001  20    77   F\n",
       "002  25    90   F\n",
       "003  22    80   M\n",
       "004  30    66   F\n",
       "005  40    60   M\n",
       "006  29    87   M"
      ]
     },
     "execution_count": 67,
     "metadata": {},
     "output_type": "execute_result"
    }
   ],
   "source": [
    "df2 = df2.T\n",
    "df2"
   ]
  },
  {
   "cell_type": "markdown",
   "metadata": {},
   "source": [
    "## 將檔案存為 npy 檔\n",
    "一個專門儲存 numpy array 的檔案格式\n",
    "使用 npy 通常可以讓你更快讀取資料喔!  \n",
    "[建議閱讀](https://towardsdatascience.com/why-you-should-start-using-npy-file-more-often-df2a13cc0161)"
   ]
  },
  {
   "cell_type": "code",
   "execution_count": 68,
   "metadata": {},
   "outputs": [
    {
     "data": {
      "text/plain": [
       "array([['001', 'F', '20', '77'],\n",
       "       ['002', 'F', '25', '90'],\n",
       "       ['003', 'M', '22', '80'],\n",
       "       ['004', 'F', '30', '66'],\n",
       "       ['005', 'M', '40', '60'],\n",
       "       ['006', 'M', '29', '87']], dtype='<U3')"
      ]
     },
     "execution_count": 68,
     "metadata": {},
     "output_type": "execute_result"
    }
   ],
   "source": [
    "import numpy as np\n",
    "# 將 data 的數值部分轉成 numpy array\n",
    "array = np.array(data[1:])\n",
    "array"
   ]
  },
  {
   "cell_type": "code",
   "execution_count": 69,
   "metadata": {},
   "outputs": [],
   "source": [
    "np.save(arr=array, file='Part01/example.npy')"
   ]
  },
  {
   "cell_type": "code",
   "execution_count": 71,
   "metadata": {},
   "outputs": [
    {
     "data": {
      "text/plain": [
       "array([['001', 'F', '20', '77'],\n",
       "       ['002', 'F', '25', '90'],\n",
       "       ['003', 'M', '22', '80'],\n",
       "       ['004', 'F', '30', '66'],\n",
       "       ['005', 'M', '40', '60'],\n",
       "       ['006', 'M', '29', '87']], dtype='<U3')"
      ]
     },
     "execution_count": 71,
     "metadata": {},
     "output_type": "execute_result"
    }
   ],
   "source": [
    "array_back = np.load('Part01/example.npy')\n",
    "array_back"
   ]
  },
  {
   "cell_type": "code",
   "execution_count": 113,
   "metadata": {},
   "outputs": [
    {
     "name": "stdout",
     "output_type": "stream",
     "text": [
      "       groups  ironmen\n",
      "0  Modern Web     59.0\n",
      "1      DevOps      9.0\n",
      "2         NaN     19.0\n",
      "3    Big Data     14.0\n",
      "4    Security      6.0\n",
      "5       自我挑戰組      NaN\n",
      "       groups  ironmen\n",
      "0  Modern Web     59.0\n",
      "1      DevOps      9.0\n",
      "3    Big Data     14.0\n",
      "4    Security      6.0\n",
      "---\n",
      "       groups  ironmen\n",
      "0  Modern Web     59.0\n",
      "1      DevOps      9.0\n",
      "2           0     19.0\n",
      "3    Big Data     14.0\n",
      "4    Security      6.0\n",
      "5       自我挑戰組      0.0\n",
      "---\n",
      "       groups  ironmen\n",
      "0  Modern Web     59.0\n",
      "1      DevOps      9.0\n",
      "2       Cloud     19.0\n",
      "3    Big Data     14.0\n",
      "4    Security      6.0\n",
      "5       自我挑戰組     71.0\n"
     ]
    }
   ],
   "source": [
    "# 自己亂打的練習\n",
    "import numpy as np\n",
    "import pandas as pd\n",
    "\n",
    "groups = [\"Modern Web\", \"DevOps\", np.nan, \"Big Data\", \"Security\", \"自我挑戰組\"]\n",
    "ironmen = [59, 9, 19, 14, 6, np.nan]\n",
    "\n",
    "ironmen_dict = {\n",
    "                \"groups\": groups,\n",
    "                \"ironmen\": ironmen\n",
    "}\n",
    "\n",
    "# 建立 data frame\n",
    "ironmen_df = pd.DataFrame(ironmen_dict)\n",
    "print(ironmen_df)\n",
    "\n",
    "\n",
    "ironmen_df_na_dropped = ironmen_df.dropna(axis=0) # 有遺失值的觀測值都刪除\n",
    "print(ironmen_df_na_dropped)\n",
    "print(\"---\") # 分隔線\n",
    "ironmen_df_na_filled = ironmen_df.fillna(0) # 有遺失值的觀測值填補 0\n",
    "print(ironmen_df_na_filled)\n",
    "print(\"---\") # 分隔線\n",
    "ironmen_df_na_filled = ironmen_df.fillna({\"groups\": \"Cloud\", \"ironmen\": 71}) # 依欄位填補遺失值\n",
    "print(ironmen_df_na_filled)"
   ]
  },
  {
   "cell_type": "markdown",
   "metadata": {},
   "source": [
    "## Pickle\n",
    "存成 pickle 檔  \n",
    "什麼都包，什麼都不奇怪的 [Pickle](https://docs.python.org/3/library/pickle.html)  \n",
    "比如說 [CIFAR10](https://www.cs.toronto.edu/~kriz/cifar.html) 的資料集就是用 pickle 包的喔!"
   ]
  },
  {
   "cell_type": "code",
   "execution_count": 114,
   "metadata": {},
   "outputs": [],
   "source": [
    "import pickle\n",
    "with open('Part01/example.pkl', 'wb') as f:\n",
    "    pickle.dump(file=f, obj=data)"
   ]
  },
  {
   "cell_type": "code",
   "execution_count": 115,
   "metadata": {},
   "outputs": [
    {
     "data": {
      "text/plain": [
       "{'G': ['Modern Web', 'DevOps', 'Cloud', 'Big Data', 'Security', '自我挑戰組'],\n",
       " 'I': [59, 9, 19, 14, 6, 77]}"
      ]
     },
     "execution_count": 115,
     "metadata": {},
     "output_type": "execute_result"
    }
   ],
   "source": [
    "with open('Part01/example.pkl', 'rb') as f:\n",
    "    pkl_data = pickle.load(f)\n",
    "pkl_data"
   ]
  },
  {
   "cell_type": "code",
   "execution_count": null,
   "metadata": {},
   "outputs": [],
   "source": []
  }
 ],
 "metadata": {
  "anaconda-cloud": {},
  "kernelspec": {
   "display_name": "Python 3",
   "language": "python",
   "name": "python3"
  },
  "language_info": {
   "codemirror_mode": {
    "name": "ipython",
    "version": 3
   },
   "file_extension": ".py",
   "mimetype": "text/x-python",
   "name": "python",
   "nbconvert_exporter": "python",
   "pygments_lexer": "ipython3",
   "version": "3.7.3"
  }
 },
 "nbformat": 4,
 "nbformat_minor": 1
}
