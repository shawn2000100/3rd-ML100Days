{
 "cells": [
  {
   "cell_type": "markdown",
   "metadata": {},
   "source": [
    "## [作業目標]\n",
    "了解機器學習適合應用的領域與範疇。"
   ]
  },
  {
   "cell_type": "markdown",
   "metadata": {},
   "source": [
    "## [作業重點]\n",
    "透過瞭解機器學習的運作方式，找出非常適用機器學習應用的領域及其原因"
   ]
  },
  {
   "cell_type": "markdown",
   "metadata": {},
   "source": [
    "## 作業\n",
    "請找出一個你認為機器學習可以發光發熱的領域並闡述原因? \n",
    "\n",
    "人臉辨識: 人臉的細微特徵都可以透過機器來捕捉\n",
    "\n",
    "晶圓瑕疵檢測: 奈米級的瑕疵很適合讓機器來自動化檢測\n",
    "\n",
    "博奕: 德州撲克、圍棋...等有固定規則，搜索空間極大的遊戲\n",
    "\n",
    "車流量分析: 通常車流量變化應該會有規律\n",
    "\n",
    "電力節約: 自動開關電器\n",
    "\n",
    "智慧家庭: 與感測器結合，即時監控火災、廚房火有沒有關、是否有人跌倒...等"
   ]
  },
  {
   "cell_type": "code",
   "execution_count": null,
   "metadata": {},
   "outputs": [],
   "source": [
    "   "
   ]
  }
 ],
 "metadata": {
  "kernelspec": {
   "display_name": "Python 3",
   "language": "python",
   "name": "python3"
  },
  "language_info": {
   "codemirror_mode": {
    "name": "ipython",
    "version": 3
   },
   "file_extension": ".py",
   "mimetype": "text/x-python",
   "name": "python",
   "nbconvert_exporter": "python",
   "pygments_lexer": "ipython3",
   "version": "3.7.3"
  }
 },
 "nbformat": 4,
 "nbformat_minor": 2
}
