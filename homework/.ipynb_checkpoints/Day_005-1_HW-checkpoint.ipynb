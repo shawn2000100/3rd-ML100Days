{
 "cells": [
  {
   "cell_type": "markdown",
   "metadata": {},
   "source": [
    "# [作業目標]\n",
    "- 利用範例的創建方式, 創建一組資料, 並練習如何取出最大值"
   ]
  },
  {
   "cell_type": "markdown",
   "metadata": {},
   "source": [
    "# [作業重點]\n",
    "- 練習創立 DataFrame (In[2])\n",
    "- 如何取出口數最多的國家 (In[3], Out[3])"
   ]
  },
  {
   "cell_type": "markdown",
   "metadata": {},
   "source": [
    "## 練習時間\n",
    "在小量的資料上，我們用眼睛就可以看得出來程式碼是否有跑出我們理想中的結果\n",
    "\n",
    "請嘗試想像一個你需要的資料結構 (裡面的值可以是隨機的)，然後用上述的方法把它變成 pandas DataFrame\n",
    "\n",
    "#### Ex: 想像一個 dataframe 有兩個欄位，一個是國家，一個是人口，求人口數最多的國家\n",
    "\n",
    "### Hints: [隨機產生數值](https://blog.csdn.net/christianashannon/article/details/78867204)"
   ]
  },
  {
   "cell_type": "code",
   "execution_count": 1,
   "metadata": {},
   "outputs": [],
   "source": [
    "import pandas as pd\n",
    "import numpy as np"
   ]
  },
  {
   "cell_type": "code",
   "execution_count": null,
   "metadata": {},
   "outputs": [],
   "source": []
  },
  {
   "cell_type": "code",
   "execution_count": 2,
   "metadata": {},
   "outputs": [
    {
     "name": "stdout",
     "output_type": "stream",
     "text": [
      "  Country  Population\n",
      "0      US   210652396\n",
      "1      UK   399764591\n",
      "2      CN   925231285\n",
      "3      TW   405868288\n",
      "  Country  Population\n",
      "2      CN   925231285\n",
      "Country              CN\n",
      "Population    925231285\n",
      "Name: 2, dtype: object\n"
     ]
    }
   ],
   "source": [
    "np.random.seed(0)\n",
    "# 國家&人口\n",
    "data = {\n",
    "    'Country': ['US', 'UK', 'CN', 'TW'],\n",
    "    'Population': np.random.randint(1000000, 1000000000, size = 4)\n",
    "}\n",
    "data = pd.DataFrame(data)\n",
    "\n",
    "print(data)\n",
    "\n",
    "# print( data['Population'].mean() )\n",
    "\n",
    "print( data[ data['Population'].max() == data['Population'] ]) # 法一\n",
    "\n",
    "print( data.iloc[ data['Population'].values.argmax() ] ) # 法二"
   ]
  }
 ],
 "metadata": {
  "kernelspec": {
   "display_name": "Python 3",
   "language": "python",
   "name": "python3"
  },
  "language_info": {
   "codemirror_mode": {
    "name": "ipython",
    "version": 3
   },
   "file_extension": ".py",
   "mimetype": "text/x-python",
   "name": "python",
   "nbconvert_exporter": "python",
   "pygments_lexer": "ipython3",
   "version": "3.7.3"
  }
 },
 "nbformat": 4,
 "nbformat_minor": 2
}
